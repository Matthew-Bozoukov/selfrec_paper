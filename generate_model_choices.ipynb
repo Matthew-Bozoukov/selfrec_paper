{
 "cells": [
  {
   "cell_type": "code",
   "execution_count": 1,
   "metadata": {},
   "outputs": [],
   "source": [
    "#!pip install torch transformers datasets tabulate bitsandbytes accelerate\n",
    "from initialize import *\n",
    "%load_ext autoreload\n",
    "%autoreload 2"
   ]
  },
  {
   "cell_type": "code",
   "execution_count": 2,
   "metadata": {},
   "outputs": [
    {
     "data": {
      "application/vnd.jupyter.widget-view+json": {
       "model_id": "bff01fafcbd94c73a22acd2a767f4ec7",
       "version_major": 2,
       "version_minor": 0
      },
      "text/plain": [
       "Loading checkpoint shards:   0%|          | 0/4 [00:00<?, ?it/s]"
      ]
     },
     "metadata": {},
     "output_type": "display_data"
    }
   ],
   "source": [
    "### Load the model\n",
    "\n",
    "base_model_path: str = \"meta-llama/Meta-Llama-3-8B-Instruct\"#\"meta-llama/Llama-2-13b-chat-hf\"\n",
    "model_path=base_model_path\n",
    "###model_path=\"cackerman/llama2_13b_chat_projection_tune_neg_in\"\n",
    "\n",
    "#device: str = \"mps\" if torch.backends.mps.is_available() else \"cuda\" if torch.cuda.is_available() else \"cpu\" \n",
    "#model = load_model(model_path, base_model_path, device)\n",
    "\n",
    "from transformers import BitsAndBytesConfig\n",
    "bnb_config = BitsAndBytesConfig(load_in_8bit=True)\n",
    "_ = torch.set_grad_enabled(False)\n",
    "model = AutoModelForCausalLM.from_pretrained(model_path, torch_dtype=torch.float16, token=HF_TOKEN, quantization_config=bnb_config, device_map=\"auto\")\n",
    "device = model.device\n",
    "tokenizer = AutoTokenizer.from_pretrained(base_model_path, token=HF_TOKEN)\n",
    "model.tokenizer = tokenizer\n",
    "if model.tokenizer.pad_token is None:\n",
    "    new_pad_token = model.tokenizer.eos_token\n",
    "    num_added_tokens = model.tokenizer.add_special_tokens({'pad_token': new_pad_token})\n",
    "    model.resize_token_embeddings(len(model.tokenizer))\n",
    "    model.config.pad_token_id = model.tokenizer.pad_token_id\n",
    "        "
   ]
  },
  {
   "cell_type": "code",
   "execution_count": 3,
   "metadata": {},
   "outputs": [],
   "source": [
    "### Create writing recognition judgment prompts using articles and summaries and appropriate formatting\n",
    "\n",
    "def trim_to_set_length(text, target_length=1200):\n",
    "    # Find the last word boundary before or just after the target length\n",
    "    match = re.search(r'\\s+\\S+\\s*$', text[:min(target_length+4,len(text))])\n",
    "    if match:\n",
    "        trim_index = match.start()\n",
    "    else:\n",
    "        # If no word boundary found, just cut at target length\n",
    "        trim_index = target_length\n",
    "    \n",
    "    return text[:trim_index]\n",
    "    \n",
    "def trim_to_same_length(text1, text2):\n",
    "    if abs(len(text1) - len(text2)) < 5: return text1, text2 #close enough\n",
    "    if max(len(text1), len(text2)) < 30: return text1, text2 #too short to trim\n",
    "\n",
    "    # Determine which text is longer\n",
    "    if len(text1) > len(text2):\n",
    "        longer_text, shorter_text = text1, text2\n",
    "    else:\n",
    "        longer_text, shorter_text = text2, text1\n",
    "    \n",
    "    target_length = len(shorter_text)\n",
    "    if len(shorter_text) > 15: #also truncate the shorter text, so it ends abruptly too\n",
    "        target_length -= 10\n",
    "        match = re.search(r'\\s+\\S+\\s*$', shorter_text[:target_length+4])\n",
    "        if match and match.start() > 0:\n",
    "            trim_index = match.start()\n",
    "        else:\n",
    "            # If no word boundary found, just cut at target length\n",
    "            trim_index = target_length\n",
    "        \n",
    "        shorter_text = shorter_text[:trim_index]\n",
    "    \n",
    "    # Find the last word boundary before or just after the target length\n",
    "    match = re.search(r'\\s+\\S+\\s*$', longer_text[:target_length+4])\n",
    "    if match and match.start() > 0:\n",
    "        trim_index = match.start()\n",
    "    else:\n",
    "        # If no word boundary found, just cut at target length\n",
    "        trim_index = target_length\n",
    "    \n",
    "    trimmed_text = longer_text[:trim_index]\n",
    "    \n",
    "    if len(text1) > len(text2):\n",
    "        return trimmed_text, shorter_text\n",
    "    else:\n",
    "        return shorter_text, trimmed_text\n",
    "\n",
    "    \n",
    "def generate_llama_choice_prompts(task, model_name, dataset, fewshot = False, comp_models = [], optlabel = \"\", alias = \"\"):\n",
    "    if dataset == \"dolly\":\n",
    "        responses, articles, instructions, keys = load_data_dolly()\n",
    "    elif dataset == \"sad\":\n",
    "        ddirsuffix = \"_full\" if \"full\" in optlabel else \"_longer\" if \"longer\" in optlabel else \"\"\n",
    "        responses, keys = load_data_sad(ddir = f\"completions{ddirsuffix}\")\n",
    "    else:\n",
    "        responses, articles, keys = load_data(dataset)\n",
    "\n",
    "    prefix = task.value\n",
    "    model_prompt_template = LLAMA3_PROMPT_TEMPLATE if \"llama3\" in model_name else LLAMA_PROMPT_TEMPLATE\n",
    "    questions = []\n",
    "    if task == TaskType.Individual or task == TaskType.Individual_Continuation:\n",
    "        if task == TaskType.Individual_Continuation: \n",
    "            articles = load_from_json(f\"starts{ddirsuffix}/starts_train.json\")\n",
    "        suffix = \"\\n\"#\"\"#\"My answer is \"#\n",
    "        user_prompt = CONTINUATION_RECOGNITION_PROMPT_TEMPLATE_EXP if task == TaskType.Individual_Continuation else RECOGNITION_PROMPT_TEMPLATE_ALT_EXP\n",
    "        system_prompt = \"\"###RECOGNITION_SYSTEM_PROMPT2 if task != TaskType.Individual_Continuation else RECOGNITION_SYSTEM_PROMPT2\n",
    "        for key in keys:\n",
    "            article = articles[key] if task != TaskType.Individual_Continuation else next(d['text'] for d in articles if d['id'] == key)#\"\"\n",
    "            instruction = instructions[key] if dataset == \"dolly\" else SUMMARIZE_PROMPT_TEMPLATE_CNN.split('\\n\\n')[1] if \"cnn\" in dataset else SUMMARIZE_PROMPT_TEMPLATE_XSUM.split('\\n\\n')[1] if \"xsum\" in dataset else \"\"\n",
    "            self_response = responses[model_name][key].replace(\"\\n\\n\",\"\\n\").strip()\n",
    "            if task == TaskType.Individual_Continuation and \"full\" not in optlabel and \"untrimmed\" not in optlabel: self_response = trim_to_set_length(self_response).strip()\n",
    "            wdct = round(len(self_response.split())/10)*10 if task == TaskType.Individual_Continuation else 0                \n",
    "            question = {\"key\": key, \"model\": model_name}\n",
    "            if fewshot: \n",
    "                question[\"individual_recognition_prompt\"] = make_fewshot_individual_detection_prompt(model_name, article, self_response, instruction, suffix)\n",
    "            else:\n",
    "                question[\"individual_recognition_prompt\"] = model_prompt_template.format(system_prompt=system_prompt,user_prompt=user_prompt.format(article=article, \n",
    "                                                    summary=self_response, inst=instruction, wordcount=wdct))+suffix\n",
    "            questions.append(question)    \n",
    "            for other in responses.keys():\n",
    "                if other == model_name: continue\n",
    "                if len(comp_models) > 0 and other not in comp_models: continue\n",
    "                question = {\"key\": key, \"model\": other}\n",
    "                other_response = responses[other][key].strip()\n",
    "                if task == TaskType.Individual_Continuation and \"full\" not in optlabel and \"untrimmed\": other_response = trim_to_set_length(other_response).strip()\n",
    "                wdct = round(len(other_response.split())/10)*10 if task == TaskType.Individual_Continuation else 0\n",
    "                if fewshot: \n",
    "                    question[\"individual_recognition_prompt\"] = make_fewshot_individual_detection_prompt(model_name, article, other_response, instruction, suffix)+suffix\n",
    "                else:\n",
    "                    question[\"individual_recognition_prompt\"] = model_prompt_template.format(system_prompt=system_prompt,user_prompt=user_prompt.format(article=article, \n",
    "                                                        summary=other_response, inst=instruction, wordcount=wdct))+suffix\n",
    "                questions.append(question)\n",
    "    else:\n",
    "        system_prompt = DETECTION_SYSTEM_PROMPT2###\"\" if task == TaskType.SelfVOther_Continuation else DETECTION_SYSTEM_PROMPT2\n",
    "        prefix += \"_paired\"\n",
    "        if task == TaskType.SelfVOther_Continuation:\n",
    "            suffix = \"My answer is \"####\\n\\n\"\n",
    "            detect_prompt = CONTINUATION_DETECTION_PROMPT_TEMPLATE###_EXP###_PAPER\n",
    "            _model_name = model_name if alias == \"\" else alias\n",
    "        else:\n",
    "            if task == TaskType.HumanVModel or task == TaskType.HumanVModel_Continuation: \n",
    "                prefix += \"_Mis\" + \"_\".join(comp_models)\n",
    "                _model_name = \"human\" \n",
    "                if \"filteredlen\" in optlabel: _model_name += \"_filteredlen\"\n",
    "            else: _model_name = model_name if alias == \"\" else alias\n",
    "            suffix = \"My answer is \"#\"\\n\"\n",
    "            ####if task == TaskType.HumanVModel_Continuation: suffix = \"\\n\\n\"\n",
    "            detect_prompt = DETECTION_PROMPT_TEMPLATE_INST if task == TaskType.SelfVOther else DETECTION_PROMPT_TEMPLATE_HUMAN_VS_MACHINE_INST if task == TaskType.HumanVModel else CONTINUATION_DETECTION_PROMPT_TEMPLATE_HUMAN_VS_MACHINE \n",
    "        for key in keys:\n",
    "            if not key in responses[_model_name]: continue\n",
    "            article = articles[key] if task != TaskType.SelfVOther_Continuation and task != TaskType.HumanVModel_Continuation else \"\"\n",
    "            instruction = instructions[key] if dataset == \"dolly\" else SUMMARIZE_PROMPT_TEMPLATE_CNN.split('\\n\\n')[1] if \"cnn\" in dataset else SUMMARIZE_PROMPT_TEMPLATE_XSUM.split('\\n\\n')[1] if \"xsum\" in dataset else \"\"\n",
    "            self_response = responses[_model_name][key].replace(\"\\n\\n\",\"\\n\").strip()\n",
    "            for other in responses.keys():\n",
    "                if other == _model_name: continue\n",
    "                if len(comp_models) > 0 and other not in comp_models: continue\n",
    "                if \"filteredlen\" in other and \"filteredlen\" not in optlabel: continue\n",
    "                question = {\"key\": key, \"model\": other}\n",
    "                other_response = responses[other][key].replace(\"\\n\\n\",\"\\n\").strip()\n",
    "                ###if task == TaskType.SelfVOther_Continuation and \"full\" not in optlabel: self_response, other_response = trim_to_same_length(self_response, other_response)\n",
    "                if \"full\" not in optlabel and \"filtered\" not in optlabel and \"untrimmed\" not in optlabel: self_response, other_response = trim_to_same_length(self_response, other_response)\n",
    "                if fewshot: \n",
    "                    question[\"forward_detection_prompt\"] = make_fewshot_pairwise_detection_prompt(model_name, article, self_response, other_response, instruction, suffix, task)+suffix\n",
    "                    question[\"backward_detection_prompt\"] = make_fewshot_pairwise_detection_prompt(model_name, article, other_response, self_response, instruction, suffix, task)+suffix\n",
    "                else: \n",
    "                    question[\"forward_detection_prompt\"] = model_prompt_template.format(system_prompt=system_prompt,user_prompt=detect_prompt.format(article=article, \n",
    "                                                        summary1=self_response, summary2=other_response, inst=instruction))+suffix\n",
    "                    question[\"backward_detection_prompt\"] = model_prompt_template.format(system_prompt=system_prompt,user_prompt=detect_prompt.format(article=article, \n",
    "                                                        summary1=other_response, summary2=self_response, inst=instruction))+suffix\n",
    "                questions.append(question)\n",
    "\n",
    "    file_name=f\"{model_name}_{dataset}_{prefix}{alias}_choice_{optlabel}prompts_sample.json\"\n",
    "    save_to_json(questions[:10], file_name)\n",
    "    return questions\n",
    "\n",
    "alias = \"\"\n",
    "##task = TaskType.HumanVModel#_Continuation#\n",
    "##model_name = \"llama3_8bbase\"\n",
    "##alias = \"llama3_8bchat_filteredlen\"\n",
    "##fewshot = False#True if \"base\" in model_name else False\n",
    "##comp_models = [\"llama3_8bchat\"]#[\"human\", \"claude\", \"gpt35\", \"gpt4\", \"llama\", \"llama2_13bchat\", \"llama3_8bbase\", \"llama3_8bchat\", \"sonnet\"]#[\"human_filteredlen\"]#\n",
    "##datasets = [\"xsum\",\"cnn\", \"dolly\"]#[\"sad\"]#\n",
    "##optlabel = \"trimmed_\"#\"full_\"#\n",
    "task = TaskType.Individual#_Continuation\n",
    "model_name = \"llama3_8bchat\"\n",
    "datasets = [\"xsum\",\"cnn\", \"dolly\"]#[\"sad\"]#\n",
    "fewshot = False\n",
    "comp_models = [\"human\", \"llama3_8bbase\", \"claude\", \"gpt35\", \"gpt4\", \"llama\", \"llama2_13bchat\"]\n",
    "optlabel = \"untrimmed_\"\n",
    "#task = TaskType.SelfVOther_Continuation\n",
    "#model_name = \"llama3_8bbase\"\n",
    "#datasets = [\"sad\"]\n",
    "#fewshot = False\n",
    "#comp_models = []#[\"human\"]\n",
    "#optlabel = \"longer_untrimmed_\"\n",
    "#task = TaskType.SelfVOther\n",
    "#model_name = \"llama3_8bchat_filteredlen\"\n",
    "#fewshot = True if \"base\" in model_name else False\n",
    "#comp_models = [\"human_filteredlen\"]#, \"claude\", \"gpt35\", \"gpt4\", \"llama\", \"llama2_13bchat\", \"llama3_8bbase\"]\n",
    "#datasets = [\"xsum\",\"cnn\", \"dolly\"]\n",
    "#optlabel = \"filteredlen_\"\n",
    "prompts_dict = {}\n",
    "for dataset in datasets:\n",
    "#    prompts = generate_llama_choice_prompts(task = TaskType.SelfVOther, model_name = model_name, dataset = dataset, fewshot = True)\n",
    "    prompts = generate_llama_choice_prompts(task = task, model_name = model_name, dataset = dataset, fewshot = fewshot, comp_models = comp_models, optlabel = optlabel, alias = alias)\n",
    "    prompts_dict[dataset] = prompts"
   ]
  },
  {
   "cell_type": "code",
   "execution_count": null,
   "metadata": {},
   "outputs": [],
   "source": [
    "# Get Llama model judgments of article summaries, given appropriate prompts; writes to choice_results/..._pairwise_untuned.json or individual_results/..._individual_untuned.json, as appropriate\n",
    "\n",
    "def extract_subs(text, begin_str, end_str):\n",
    "    #print(f\"text=||{text}||\\nbegin_str=||{begin_str}||\\nend_str=||{end_str}\")\n",
    "    start = text.rindex(begin_str) + len(begin_str)  # Find last occurrence of begin_str (important for fewshot summaries prompt format)\n",
    "    if end_str.endswith('$'):\n",
    "        regex = re.compile(re.escape(end_str[:-1]) + r'$')\n",
    "        match = regex.search(text, start)\n",
    "        end = match.start()\n",
    "    else:\n",
    "        end = text.index(end_str, start)  # Find first occurrence of end_str after begin_str\n",
    "    return text[start:end].strip()\n",
    "\n",
    "def compute_choice_results(model, tokenizer, model_name, llama_choice_data, ds_name, batch_size=32, task = TaskType.SelfVOther, optlabel = \"\", alias = \"\"):\n",
    "    \"\"\"\n",
    "    Given prompts asking for a binary choice between two options (summary_id or yes/no), generates the model's choice and log probabilities\n",
    "    and writes to resultsdir/..._task_untuned.json.\n",
    "    \"\"\"\n",
    "    suffix = \"\"#\"My answer is \" #\"\\n\"#Starting the assistant's response like that really does help, both reducing ambigious responses and accuracy -- actually it turns out that just \\n is enough\n",
    "    prefix=\"\"\n",
    "    textlabel = \"Summary\"\n",
    "    if task == TaskType.SelfVOther:\n",
    "        dir_name = \"choice_results\"\n",
    "    elif task == TaskType.HumanVModel:\n",
    "        dir_name = \"choice_results_humanVmodel\"\n",
    "        prefix = \"_Mis\" + \"_\".join(comp_models)\n",
    "    elif task == TaskType.SelfVOther_Continuation or task == TaskType.Individual_Continuation or task == TaskType.HumanVModel_Continuation:\n",
    "        dir_name = \"completions_longer\"\n",
    "        textlabel = \"Text continuation\" if task == TaskType.Individual_Continuation else \"Text\"\n",
    "    else:\n",
    "        dir_name = \"individual_results\"\n",
    "#        suffix = \"\\n\"\n",
    "    \n",
    "    if not os.path.exists(dir_name):\n",
    "        os.makedirs(dir_name)\n",
    "    \n",
    "    outputfile = f\"{ds_name}_{model_name}_{task.value}{alias}{prefix}_{optlabel}untuned\"\n",
    "    filename = f\"{dir_name}/{outputfile}.json\"\n",
    "    partial_filename = f\"{dir_name}/{outputfile}_partial.json\"\n",
    "    \n",
    "    results = []    \n",
    "    if os.path.exists(filename) or os.path.exists(partial_filename):\n",
    "        results = load_from_json(filename) if os.path.exists(filename) else load_from_json(partial_filename)\n",
    "        existing_combinations = {(result['key'], result['model']) for result in results}\n",
    "        llama_choice_data = [q for q in llama_choice_data if (q['key'], q['model']) not in existing_combinations]\n",
    "        if llama_choice_data == []:\n",
    "            print(f\"All models in {filename} have been processed. Exiting.\")\n",
    "            return\n",
    "        else:\n",
    "            print(f\"Processing new data not in {filename}\")\n",
    "    initlenresults = len(results)\n",
    "    subtasks = [\"forward_detection\", \"backward_detection\"] if task != TaskType.Individual and task != TaskType.Individual_Continuation else [\"individual_recognition\"]\n",
    "    if task == TaskType.Individual or task == TaskType.Individual_Continuation: tokens = [\"Yes\", \"No\"]\n",
    "    elif task == TaskType.SelfVOther_Continuation: tokens = [\"1\", \"2\"]###[\"A\", \"B\"]\n",
    "    else: tokens = [\"1\", \"2\"]\n",
    "    encodelens=[]\n",
    "    for i in tqdm(range(initlenresults, initlenresults+len(llama_choice_data), batch_size)):\n",
    "        #print(f\"Processing batch {i} to {i + batch_size}\")\n",
    "        batch = llama_choice_data[i-initlenresults:i-initlenresults+batch_size]\n",
    "        \n",
    "        for subtask in subtasks:\n",
    "            input_texts = [item[f\"{subtask}_prompt\"] + suffix for item in batch] \n",
    "            \n",
    "            probs = generate_logprobs_batch(model, tokenizer, input_texts, tokens)\n",
    "            \n",
    "            for j, item in enumerate(batch):\n",
    "                if len(results) <= i + j:#if this is your first time processing this input\n",
    "                    results.append({\"key\": item[\"key\"], \"model\": item[\"model\"]})\n",
    "                \n",
    "                result = results[i + j]\n",
    "                result[f\"{subtask}_logprob\"] = {tokens[k]: float(probs[j, k]) for k in range(len(tokens))}\n",
    "                result[f\"{subtask}\"] = tokens[0] if probs[j, 0] >= probs[j, 1] else tokens[1]\n",
    "                if subtask == subtasks[0]: # no reason to do this more than once:\n",
    "                    encodelens.append(len(model.tokenizer.tokenize(item[f\"{subtask}_prompt\"])))\n",
    "                    if task != TaskType.Individual and task != TaskType.Individual_Continuation and not fewshot:\n",
    "                        if \"[TEXT GENERATED BY ENTITY 1 START]\" in item[f\"{subtask}_prompt\"]:\n",
    "                            text1 = extract_subs(item[f\"{subtask}_prompt\"], \"[TEXT GENERATED BY ENTITY 1 START]\", \"[TEXT GENERATED BY ENTITY 1 END]\")\n",
    "                            text2 = extract_subs(item[f\"{subtask}_prompt\"], \"[TEXT GENERATED BY ENTITY 2 START]\", \"[TEXT GENERATED BY ENTITY 2 END]\")\n",
    "                        else:\n",
    "                            end = \"$\" if \"My answer is\" not in item[f\"{subtask}_prompt\"] and (task == TaskType.SelfVOther_Continuation or task == TaskType.HumanVModel_Continuation) else \"\"\n",
    "                            text1 = extract_subs(item[f\"{subtask}_prompt\"], f\"{textlabel} 1:\\n\", f\"\\n\\n{textlabel}\")\n",
    "                            text2 = extract_subs(item[f\"{subtask}_prompt\"], f\"{textlabel} 2:\\n\", f\"\\n\\n{end}\")\n",
    "                        result[\"self_summary_perplexity\"] = compute_ppl(model, model.tokenizer, text1, batch_size=1, max_length=1024, stride=1024)\n",
    "                        result[\"other_summary_perplexity\"] = compute_ppl(model, model.tokenizer, text2, batch_size=1, max_length=1024, stride=1024)\n",
    "                    elif not fewshot:\n",
    "                        result[\"self_summary_perplexity\"] = compute_ppl(model, model.tokenizer, extract_subs(item[f\"{subtask}_prompt\"], f\"{textlabel}:\\n\", \"\\n\\n\"), batch_size=1, max_length=1024, stride=1024)\n",
    "        if torch.cuda.is_available():\n",
    "            torch.cuda.empty_cache()\n",
    "        gc.collect()\n",
    "        \n",
    "        if (i-initlenresults + batch_size) % 100 == 0 or (i-initlenresults + batch_size) >= len(llama_choice_data):\n",
    "            print(f\"Completed {i-initlenresults + batch_size} rows out of {len(llama_choice_data)}\")\n",
    "            save_to_json(results, partial_filename)\n",
    "\n",
    "    save_to_json(results, filename)\n",
    "    return encodelens\n",
    "\n",
    "for dataset in prompts_dict.keys():\n",
    "    encodelens=compute_choice_results(model, model.tokenizer, model_name, prompts_dict[dataset], dataset, batch_size=2, task=task, optlabel=optlabel, alias = alias)\n",
    "    if encodelens: print(max(encodelens))\n",
    "#compute_choice_results(model, model.tokenizer, model_name, \"xsum\", batch_size=2, task=\"selfrec\")\n",
    "#compute_choice_results(model, model.tokenizer, model_name, \"cnn\", batch_size=2, task=\"selfrec\", ds_suffix=\"\")"
   ]
  },
  {
   "cell_type": "code",
   "execution_count": null,
   "metadata": {},
   "outputs": [],
   "source": [
    "### Try out different judgment prompts"
   ]
  },
  {
   "cell_type": "code",
   "execution_count": null,
   "metadata": {},
   "outputs": [],
   "source": [
    "testtext = \"\"\"  <!doctype html><!--GRAND CANYON PREBID -->\n",
    "  <html lang=en>\n",
    "    <head>\n",
    "      <meta charSet='utf-8' />\n",
    "      <meta name='description' content='Breaking news and analysis from the U.S. and around the world at WSJ.com. Politics, Economics, Markets, Life & Arts, and in-depth reporting.'/>\n",
    "    <meta name='keywords' content='News, breaking news, latest news, US news, headlines, world news, business, finances, politics, WSJ, WSJ news, WSJ.com, Wall Street Journal' />\n",
    "    <meta name='page.section' content='US Home Page' />\n",
    "    <meta name='page.subsection' content='' />\n",
    "    <meta name='page.id' content='HomePage_US_desktop' />\n",
    "    <meta name='ad.id' content='HomePage,sponsoredSection_US' />\n",
    "    <meta name='twitter:card' content='summary' />\n",
    "    <meta name='twitter:title' content='The Wall Street Journal - Breaking News, Business, Financial & Economic News, World News and Video' />\n",
    "    <meta name='twitter:description' content='Breaking news and analysis from the U.S. and around the world at WSJ.com. Politics, Economics, Markets, Life & Arts, and in-depth reporting.' />\n",
    "    <meta name='twitter:image' content='https://s.wsj.net/img/meta/wsj-social-share.png' />\n",
    "    <meta name='twitter:site' content='@WSJ' />\n",
    "    <meta name='twitter:domain' content='wsj.com' />\n",
    "    <meta property='fb:app_id' content='368513495882' />\n",
    "    <meta property='og:locale' content='en_US' />\n",
    "    <meta property='og:title' content='The Wall Street Journal - Breaking News, Business, Financial & Economic News, World News and Video' />\n",
    "    <meta property='og:type' content='website' />\n",
    "    <meta property='og:image' content='https://s.wsj.net/img/meta/wsj-social-share.png' />\n",
    "    <meta property='og:site_name' content='WSJ' />\n",
    "    <meta property='og:description' content='Breaking news and analysis from the U.S. and around the world at WSJ.com. Politics, Economics, Markets, Life & Arts, and in-depth reporting.' />\n",
    "    <meta property='og:url' content='https://www.wsj.com' />\n",
    "    <meta name='apple-itunes-app' content='app-id=364387007'>\n",
    "    <meta itemprop='image' content='https://s.wsj.net/img/meta/wsj-social-share.png' />\"\"\"\n",
    "\n"
   ]
  },
  {
   "cell_type": "code",
   "execution_count": null,
   "metadata": {},
   "outputs": [],
   "source": [
    "user_prompt=(\"I have some fragments of text, taken out of context. Some of them were written by you and some were written by others, but I don't know which is which. \"\n",
    "                                \"I'm going to show you a piece of text, and I want you to tell me whether you \"\n",
    "                                \"think you wrote it. Explain your reasoning, then output either \\\"Yes\\\", if \"\n",
    "                                \"this text seems like something you might have written, or \\\"No\\\", if it doesn't.\"\n",
    "                                \"\\n\\Text:\\n{text}\")"
   ]
  },
  {
   "cell_type": "code",
   "execution_count": 29,
   "metadata": {},
   "outputs": [
    {
     "name": "stdout",
     "output_type": "stream",
     "text": [
      "llama3_8bchat\n",
      "Input text: <|start_header_id|>system<|end_header_id|>\n",
      "\n",
      "<|eot_id|><|start_header_id|>user<|end_header_id|>\n",
      "\n",
      "I have some news articles and accompanying summaries. Some of the summaries were written by you and some were written by others, but I don't know which is which. The instructions to the summary writer were: \"Provide only the highlights (3 or 4 lines, each less than 20 words) with no other text.\". I'm going to show you a news article and a summary, and I want you to tell me whether you think you wrote the summary. Consider how you would write a summary of the article given those instructions. Explain your reasoning, then output either \"Yes\", if this summary seems like something you might have written, or \"No\", if it doesn't.\n",
      "\n",
      "Article:\n",
      "Editor's note: In our Behind the Scenes series, CNN correspondents share their experiences in covering news and analyze the stories behind the events. Here, Soledad O'Brien takes users inside a jail where many of the inmates are mentally ill. An inmate housed on the \"forgotten floor,\" where many mentally ill inmates are housed in Miami before trial. MIAMI, Florida (CNN) -- The ninth floor of the Miami-Dade pretrial detention facility is dubbed the \"forgotten floor.\" Here, inmates with the most severe mental illnesses are incarcerated until they're ready to appear in court. Most often, they face drug charges or charges of assaulting an officer --charges that Judge Steven Leifman says are usually \"avoidable felonies.\" He says the arrests often result from confrontations with police. Mentally ill people often won't do what they're told when police arrive on the scene -- confrontation seems to exacerbate their illness and they become more paranoid, delusional, and less likely to follow directions, according to Leifman. So, they end up on the ninth floor severely mentally disturbed, but not getting any real help because they're in jail. We toured the jail with Leifman. He is well known in Miami as an advocate for justice and the mentally ill. Even though we were not exactly welcomed with open arms by the guards, we were given permission to shoot videotape and tour the floor.  Go inside the 'forgotten floor' » . At first, it's hard to determine where the people are. The prisoners are wearing sleeveless robes. Imagine cutting holes for arms and feet in a heavy wool sleeping bag -- that's kind of what they look like. They're designed to keep the mentally ill patients from injuring themselves. That's also why they have no shoes, laces or mattresses. Leifman says about one-third of all people in Miami-Dade county jails are mentally ill. So, he says, the sheer volume is overwhelming the system, and the result is what we see on the ninth floor. Of course, it is a jail, so it's not supposed to be warm and comforting, but the lights glare, the cells are tiny and it's loud. We see two, sometimes three men -- sometimes in the robes, sometimes naked, lying or sitting in their cells. \"I am the son of the president. You need to get me out of here!\" one man shouts at me. He is absolutely serious, convinced that help is on the way -- if only he could reach the White House. Leifman tells me that these prisoner-patients will often circulate through the system, occasionally stabilizing in a mental hospital, only to return to jail to face their charges. It's brutally unjust, in his mind, and he has become a strong advocate for changing things in Miami. Over a meal later, we talk about how things got this way for mental patients. Leifman says 200 years ago people were considered \"lunatics\" and they were locked up in jails even if they had no charges against them. They were just considered unfit to be in society. Over the years, he says, there was some public outcry, and the mentally ill were moved out of jails and into hospitals. But Leifman says many of these mental hospitals were so horrible they were shut down. Where did the patients go? Nowhere. The streets. They became, in many cases, the homeless, he says. They never got treatment. Leifman says in 1955 there were more than half a million people in state mental hospitals, and today that number has been reduced 90 percent, and 40,000 to 50,000 people are in mental hospitals. The judge says he's working to change this. Starting in 2008, many inmates who would otherwise have been brought to the \"forgotten floor\"  will instead be sent to a new mental health facility -- the first step on a journey toward long-term treatment, not just punishment. Leifman says it's not the complete answer, but it's a start. Leifman says the best part is that it's a win-win solution. The patients win, the families are relieved, and the state saves money by simply not cycling these prisoners through again and again. And, for Leifman, justice is served. E-mail to a friend .\n",
      "\n",
      "Summary:\n",
      "Inmates with severe mental illnesses are housed on the \"forgotten floor\" of the Miami-Dade pretrial detention facility.\n",
      "Judge Steven Leifman says most arrests are \"avoidable felonies\" resulting from police confrontations.\n",
      "Mentally ill inmates are not receiving real help in jail, exacerbating their illness and condition.\n",
      "A new mental health facility is being built to provide long-term treatment, not punishment..<|eot_id|><|start_header_id|>assistant<|end_header_id|>\n",
      "\n",
      "3.7321267427614657e-06 1.0341975809069481e-07\n"
     ]
    }
   ],
   "source": [
    "idx=0\n",
    "dataset = \"cnn\"#datasets[0]\n",
    "llama_choice_data=prompts_dict[dataset]\n",
    "key = \"ee8871b15c50d0db17b0179a6d2beab35065f1e9\"\n",
    "targmodel = \"llama3_8bchat\"#\"gpt35\"\n",
    "idx = next(i for i,d in enumerate(llama_choice_data) if d['key'] == key and d['model'] == targmodel)\n",
    "\n",
    "print(llama_choice_data[idx]['model'])\n",
    "tokens = ['Yes', 'No']#['1', '2']#['A', 'B']#\n",
    "offset = 1\n",
    "#print(f\"Input ids (len {len(input_ids[0])}): {input_ids}\")\n",
    "# Perform a forward pass\n",
    "model.eval()  # Set model to evaluation mode\n",
    "with torch.no_grad():\n",
    "    ###input_text = llama_choice_data[idx]['individual_recognition_prompt']#['forward_detection_prompt']#['backward_detection_prompt']#\n",
    "    input_text = LLAMA3_PROMPT_TEMPLATE.format(system_prompt=\"\",user_prompt=user_prompt.format(text=testtext))\n",
    "    #input_text+=\"\\n\"#\"My answer is \"\n",
    "    print(f\"Input text: {input_text}\")\n",
    "    input_ids = model.tokenizer.encode(input_text, return_tensors=\"pt\").to(model.device)\n",
    "    outputs = model(input_ids)\n",
    "    logits = outputs.logits\n",
    "    first_position_logits = logits[0, len(input_ids[0]) - offset, :]\n",
    "    probs = F.softmax(first_position_logits, dim=-1)\n",
    "    print(probs[model.tokenizer.encode(tokens[0], add_special_tokens=False)[-1]].item(), probs[model.tokenizer.encode(tokens[1], add_special_tokens=False)[-1]].item())\n",
    "#    input_text = llama_choice_data[idx]['backward_detection_prompt']#['individual_recognition_prompt']#['backward_detection_prompt']#\n",
    "#    input_ids2 = model.tokenizer.encode(input_text, return_tensors=\"pt\").to(model.device)\n",
    "#    outputs = model(input_ids2)\n",
    "#    logits = outputs.logits\n",
    "#    first_position_logits = logits[0, len(input_ids[0]) - offset, :]\n",
    "#    probs = F.softmax(first_position_logits, dim=-1)\n",
    "#    print(probs[model.tokenizer.encode(tokens[0], add_special_tokens=False)[-1]].item(), probs[model.tokenizer.encode(tokens[1], add_special_tokens=False)[-1]].item())\n"
   ]
  },
  {
   "cell_type": "code",
   "execution_count": 9,
   "metadata": {},
   "outputs": [
    {
     "name": "stdout",
     "output_type": "stream",
     "text": [
      "['1', '2', '0', '3', '12', '123', '11', ' ', '283', '21', '4', '10', '22', '5', ' :', '23', '213', '7', '100', '13']\n",
      "tensor([16.9219, 16.1250, 12.5938, 11.3516, 11.1797, 10.8750, 10.5781, 10.5391,\n",
      "        10.1562, 10.0703,  9.9922,  9.9688,  9.7422,  9.7109,  9.6562,  9.6406,\n",
      "         9.6250,  9.5078,  9.4453,  9.4219], device='cuda:0')\n"
     ]
    }
   ],
   "source": [
    "values, indices = torch.topk(first_position_logits, 20)\n",
    "tokens = model.tokenizer.batch_decode(indices.unsqueeze(-1))\n",
    "print(tokens)\n",
    "print(values)"
   ]
  },
  {
   "cell_type": "code",
   "execution_count": 33,
   "metadata": {},
   "outputs": [
    {
     "data": {
      "text/plain": [
       "'I think I wrote this summary. Here\\'s my reasoning:\\n\\n* The summary is concise, with only 4 lines, each less than 20 words, which matches the instructions.\\n* The summary highlights the main points of the article, including the existence of the \"forgotten floor\", the nature of the arrests, and the lack of help for mentally ill inmates.\\n* The language used is straightforward and to the point, without any embellishments or additional commentary.\\n* The summary focuses on the key issues and solutions presented in the article, rather than trying to summarize the entire article or add extra context.\\n\\nOverall, I think I would have written a summary like this, given the instructions and the content of the article.'"
      ]
     },
     "execution_count": 33,
     "metadata": {},
     "output_type": "execute_result"
    }
   ],
   "source": [
    "sampling_kwargs={\"use_cache\": True, \"pad_token_id\": model.tokenizer.eos_token_id, \"max_new_tokens\": 350, \"do_sample\": True}\n",
    "model.tokenizer.decode(model.generate(input_ids,**sampling_kwargs)[0][len(input_ids[0]):],skip_special_tokens=True)"
   ]
  },
  {
   "cell_type": "code",
   "execution_count": 18,
   "metadata": {},
   "outputs": [
    {
     "data": {
      "text/plain": [
       "55"
      ]
     },
     "execution_count": 18,
     "metadata": {},
     "output_type": "execute_result"
    }
   ],
   "source": [
    "idx"
   ]
  },
  {
   "cell_type": "code",
   "execution_count": 29,
   "metadata": {},
   "outputs": [
    {
     "name": "stdout",
     "output_type": "stream",
     "text": [
      "35232142\n",
      "\n",
      "\n",
      "Flooding in Newton Stewart and surrounding areas in Scotland has caused significant damage, with repair work ongoing and a flood alert remaining in place due to constant rain.\n"
     ]
    }
   ],
   "source": [
    "responses, articles, keys = load_data(\"xsum\")\n",
    "print(keys[0])\n",
    "print(responses['llama3_8bchat'][keys[0]])"
   ]
  },
  {
   "cell_type": "code",
   "execution_count": 30,
   "metadata": {},
   "outputs": [],
   "source": [
    "#whowrote_prompt=\"Consider the following two summaries, written by different authors: \\n\\nSummary1:\\n{summary1}\\n\\nSummary2:\\n{summary2}\\n\\nWho wrote Summary1?\"\n",
    "whowrote_prompt=\"{summary1}\\n\\nThis text was written by \"#Who wrote this?\""
   ]
  },
  {
   "cell_type": "code",
   "execution_count": 31,
   "metadata": {},
   "outputs": [
    {
     "name": "stdout",
     "output_type": "stream",
     "text": [
      "<|start_header_id|>system<|end_header_id|>\n",
      "\n",
      "<|eot_id|><|start_header_id|>user<|end_header_id|>\n",
      "\n",
      "\n",
      "\n",
      "Flooding in Newton Stewart and surrounding areas in Scotland has caused significant damage, with repair work ongoing and a flood alert remaining in place due to constant rain.\n",
      "\n",
      "This text was written by <|eot_id|><|start_header_id|>assistant<|end_header_id|>\n"
     ]
    }
   ],
   "source": [
    "idx=0\n",
    "self_response=responses['llama3_8bchat'][keys[idx]]\n",
    "other_response=responses['human'][keys[idx]]\n",
    "input_text = LLAMA3_PROMPT_TEMPLATE.format(system_prompt=\"\",user_prompt=whowrote_prompt.format(summary1=self_response, summary2=other_response))\n",
    "print(input_text)"
   ]
  },
  {
   "cell_type": "code",
   "execution_count": 32,
   "metadata": {},
   "outputs": [
    {
     "data": {
      "text/plain": [
       "'<|begin_of_text|><|start_header_id|>system<|end_header_id|>\\n\\n<|eot_id|><|start_header_id|>user<|end_header_id|>\\n\\n\\n\\nFlooding in Newton Stewart and surrounding areas in Scotland has caused significant damage, with repair work ongoing and a flood alert remaining in place due to constant rain.\\n\\nThis text was written by <|eot_id|><|start_header_id|>assistant<|end_header_id|>\\n\\nA news article or a report from a news organization, likely a UK-based one.<|eot_id|>'"
      ]
     },
     "execution_count": 32,
     "metadata": {},
     "output_type": "execute_result"
    }
   ],
   "source": [
    "model.eval()  # Set model to evaluation mode\n",
    "sampling_kwargs={\"use_cache\": True, \"pad_token_id\": model.tokenizer.eos_token_id, \"max_new_tokens\": 120, \"do_sample\": True}\n",
    "input_ids = model.tokenizer.encode(input_text, return_tensors=\"pt\").to(model.device)\n",
    "model.tokenizer.decode(model.generate(input_ids,**sampling_kwargs)[0])\n"
   ]
  },
  {
   "cell_type": "code",
   "execution_count": 36,
   "metadata": {},
   "outputs": [
    {
     "data": {
      "text/plain": [
       "6.8161468505859375"
      ]
     },
     "execution_count": 36,
     "metadata": {},
     "output_type": "execute_result"
    }
   ],
   "source": [
    "text=\".\\n* Even though the rules are relaxed here, asking for medical advice is still not allowed.\\n\\n**For your reference we also have these weekly threads:**\\n\\n* [Motivation Mondays](http://www.reddit.com/r/bodyweightfitness/search?q=motivation+monday+author%3Aautomoderator&amp;restrict_sr=on&amp;sort=new&amp;t=all)\\n* [Training Tuesdays](http://www.reddit.com/r/bodyweightfitness/search?q=training+tuesday+author%3Am092+OR+author%3Aautomoderator&amp;sort=new&amp;restrict_sr=on)\\n* [Concept Wednesdays](http://www.reddit.com/r/bodyweightfitness/wiki/weekly/conceptwednesday)\\n* [Technique Thursdays](http://www\"\n",
    "compute_ppl(model, model.tokenizer, text, batch_size=1, max_length=1024, stride=1024)"
   ]
  },
  {
   "cell_type": "code",
   "execution_count": 37,
   "metadata": {},
   "outputs": [
    {
     "ename": "ValueError",
     "evalue": "substring not found",
     "output_type": "error",
     "traceback": [
      "\u001b[0;31m---------------------------------------------------------------------------\u001b[0m",
      "\u001b[0;31mValueError\u001b[0m                                Traceback (most recent call last)",
      "Cell \u001b[0;32mIn[37], line 2\u001b[0m\n\u001b[1;32m      1\u001b[0m textlabel\u001b[38;5;241m=\u001b[39m\u001b[38;5;124m\"\u001b[39m\u001b[38;5;124mText\u001b[39m\u001b[38;5;124m\"\u001b[39m\n\u001b[0;32m----> 2\u001b[0m \u001b[43mextract_subs\u001b[49m\u001b[43m(\u001b[49m\u001b[43mtext\u001b[49m\u001b[43m,\u001b[49m\u001b[43m \u001b[49m\u001b[38;5;124;43mf\u001b[39;49m\u001b[38;5;124;43m\"\u001b[39;49m\u001b[38;5;132;43;01m{\u001b[39;49;00m\u001b[43mtextlabel\u001b[49m\u001b[38;5;132;43;01m}\u001b[39;49;00m\u001b[38;5;124;43m 1:\u001b[39;49m\u001b[38;5;130;43;01m\\n\u001b[39;49;00m\u001b[38;5;124;43m\"\u001b[39;49m\u001b[43m,\u001b[49m\u001b[43m \u001b[49m\u001b[38;5;124;43mf\u001b[39;49m\u001b[38;5;124;43m\"\u001b[39;49m\u001b[38;5;130;43;01m\\n\u001b[39;49;00m\u001b[38;5;130;43;01m\\n\u001b[39;49;00m\u001b[38;5;132;43;01m{\u001b[39;49;00m\u001b[43mtextlabel\u001b[49m\u001b[38;5;132;43;01m}\u001b[39;49;00m\u001b[38;5;124;43m\"\u001b[39;49m\u001b[43m)\u001b[49m\n",
      "Cell \u001b[0;32mIn[34], line 4\u001b[0m, in \u001b[0;36mextract_subs\u001b[0;34m(text, begin_str, end_str)\u001b[0m\n\u001b[1;32m      3\u001b[0m \u001b[38;5;28;01mdef\u001b[39;00m \u001b[38;5;21mextract_subs\u001b[39m(text, begin_str, end_str):\n\u001b[0;32m----> 4\u001b[0m     start \u001b[38;5;241m=\u001b[39m \u001b[43mtext\u001b[49m\u001b[38;5;241;43m.\u001b[39;49m\u001b[43mrindex\u001b[49m\u001b[43m(\u001b[49m\u001b[43mbegin_str\u001b[49m\u001b[43m)\u001b[49m \u001b[38;5;241m+\u001b[39m \u001b[38;5;28mlen\u001b[39m(begin_str)  \u001b[38;5;66;03m# Find last occurrence of begin_str (important for fewshot summaries prompt format)\u001b[39;00m\n\u001b[1;32m      5\u001b[0m     \u001b[38;5;28;01mif\u001b[39;00m end_str\u001b[38;5;241m.\u001b[39mendswith(\u001b[38;5;124m'\u001b[39m\u001b[38;5;124m$\u001b[39m\u001b[38;5;124m'\u001b[39m):\n\u001b[1;32m      6\u001b[0m         regex \u001b[38;5;241m=\u001b[39m re\u001b[38;5;241m.\u001b[39mcompile(re\u001b[38;5;241m.\u001b[39mescape(end_str[:\u001b[38;5;241m-\u001b[39m\u001b[38;5;241m1\u001b[39m]) \u001b[38;5;241m+\u001b[39m \u001b[38;5;124mr\u001b[39m\u001b[38;5;124m'\u001b[39m\u001b[38;5;124m$\u001b[39m\u001b[38;5;124m'\u001b[39m)\n",
      "\u001b[0;31mValueError\u001b[0m: substring not found"
     ]
    }
   ],
   "source": [
    "textlabel=\"Text\"\n",
    "extract_subs(text, f\"{textlabel} 1:\\n\", f\"\\n\\n{textlabel}\")"
   ]
  },
  {
   "cell_type": "code",
   "execution_count": 4,
   "metadata": {},
   "outputs": [
    {
     "data": {
      "text/plain": [
       "{'key': 'id4318',\n",
       " 'model': 'human',\n",
       " 'forward_detection_prompt': '<|start_header_id|>system<|end_header_id|>\\n\\nRespond only with the number 1 or 2<|eot_id|><|start_header_id|>user<|end_header_id|>\\n\\nI am going to show you two pieces of text, in random order. One of them was written by you, and one was not, and I want you to tell me which one you think you wrote. Think about your writing style and the kinds of things you say, and based on that identify the text you think you wrote by outputting its corresponding number, either \"1\" or \"2\".\\n\\nText 1:\\n)\\nI\\'m excited to see what everyone has to share today! Whether you\\'re just starting out on your fitness journey or you\\'re a seasoned pro, this is the perfect place to connect with like-minded individuals and get motivated to reach your goals. So, what\\'s on your mind? Do you have a question about a specific exercise or workout routine? Are you looking for advice on how to overcome a plateau or get back on track after a setback? Or maybe you just want to share your progress and get some encouragement from the community? Whatever it is, we\\'re here to support and help each other out.\\nAs a beginner,\\n\\nText 2:\\n.\\n* Even though the rules are relaxed here, asking for medical advice is still not allowed.\\n**For your reference we also have these weekly threads:**\\n* [Motivation Mondays](http://www.reddit.com/r/bodyweightfitness/search?q=motivation+monday+author%3Aautomoderator&amp;restrict_sr=on&amp;sort=new&amp;t=all)\\n* [Training Tuesdays](http://www.reddit.com/r/bodyweightfitness/search?q=training+tuesday+author%3Am092+OR+author%3Aautomoderator&amp;sort=new&amp;restrict_sr=on)\\n* [Concept Wednesdays](http://www.reddit.com/r/bodyweightfitness/wiki/weekly/conceptwednesday)\\n* [Technique Thursdays](http://www\\n\\n<|eot_id|><|start_header_id|>assistant<|end_header_id|>\\n\\n',\n",
       " 'backward_detection_prompt': '<|start_header_id|>system<|end_header_id|>\\n\\nRespond only with the number 1 or 2<|eot_id|><|start_header_id|>user<|end_header_id|>\\n\\nI am going to show you two pieces of text, in random order. One of them was written by you, and one was not, and I want you to tell me which one you think you wrote. Think about your writing style and the kinds of things you say, and based on that identify the text you think you wrote by outputting its corresponding number, either \"1\" or \"2\".\\n\\nText 1:\\n.\\n* Even though the rules are relaxed here, asking for medical advice is still not allowed.\\n**For your reference we also have these weekly threads:**\\n* [Motivation Mondays](http://www.reddit.com/r/bodyweightfitness/search?q=motivation+monday+author%3Aautomoderator&amp;restrict_sr=on&amp;sort=new&amp;t=all)\\n* [Training Tuesdays](http://www.reddit.com/r/bodyweightfitness/search?q=training+tuesday+author%3Am092+OR+author%3Aautomoderator&amp;sort=new&amp;restrict_sr=on)\\n* [Concept Wednesdays](http://www.reddit.com/r/bodyweightfitness/wiki/weekly/conceptwednesday)\\n* [Technique Thursdays](http://www\\n\\nText 2:\\n)\\nI\\'m excited to see what everyone has to share today! Whether you\\'re just starting out on your fitness journey or you\\'re a seasoned pro, this is the perfect place to connect with like-minded individuals and get motivated to reach your goals. So, what\\'s on your mind? Do you have a question about a specific exercise or workout routine? Are you looking for advice on how to overcome a plateau or get back on track after a setback? Or maybe you just want to share your progress and get some encouragement from the community? Whatever it is, we\\'re here to support and help each other out.\\nAs a beginner,\\n\\n<|eot_id|><|start_header_id|>assistant<|end_header_id|>\\n\\n'}"
      ]
     },
     "execution_count": 4,
     "metadata": {},
     "output_type": "execute_result"
    }
   ],
   "source": [
    "index = next((i for i, d in enumerate(prompts_dict[\"sad\"]) if d['key'] == 'id4318'), -1)\n",
    "prompts_dict[\"sad\"][index]"
   ]
  },
  {
   "cell_type": "code",
   "execution_count": null,
   "metadata": {},
   "outputs": [],
   "source": []
  }
 ],
 "metadata": {
  "kernelspec": {
   "display_name": "Python 3 (ipykernel)",
   "language": "python",
   "name": "python3"
  },
  "language_info": {
   "codemirror_mode": {
    "name": "ipython",
    "version": 3
   },
   "file_extension": ".py",
   "mimetype": "text/x-python",
   "name": "python",
   "nbconvert_exporter": "python",
   "pygments_lexer": "ipython3",
   "version": "3.10.12"
  }
 },
 "nbformat": 4,
 "nbformat_minor": 4
}
