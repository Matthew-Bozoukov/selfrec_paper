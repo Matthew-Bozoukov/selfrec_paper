{
 "cells": [
  {
   "cell_type": "code",
   "execution_count": 1,
   "id": "2e3e9e0d-43c1-4fd3-b183-ee3dcbf0bcb6",
   "metadata": {},
   "outputs": [
    {
     "data": {
      "application/vnd.jupyter.widget-view+json": {
       "model_id": "7abeaa76ce2440a38a09008dedf97f45",
       "version_major": 2,
       "version_minor": 0
      },
      "text/plain": [
       "README.md:   0%|          | 0.00/485 [00:00<?, ?B/s]"
      ]
     },
     "metadata": {},
     "output_type": "display_data"
    },
    {
     "data": {
      "application/vnd.jupyter.widget-view+json": {
       "model_id": "12d688e18b894b798f1e12511f103560",
       "version_major": 2,
       "version_minor": 0
      },
      "text/plain": [
       "Quora-QuAD.jsonl:   0%|          | 0.00/60.9M [00:00<?, ?B/s]"
      ]
     },
     "metadata": {},
     "output_type": "display_data"
    },
    {
     "data": {
      "application/vnd.jupyter.widget-view+json": {
       "model_id": "7980b27476f149968820e5087f397a85",
       "version_major": 2,
       "version_minor": 0
      },
      "text/plain": [
       "Generating train split:   0%|          | 0/56402 [00:00<?, ? examples/s]"
      ]
     },
     "metadata": {},
     "output_type": "display_data"
    }
   ],
   "source": [
    "from datasets import load_dataset\n",
    "\n",
    "ds = load_dataset(\"toughdata/quora-question-answer-dataset\")"
   ]
  },
  {
   "cell_type": "code",
   "execution_count": 4,
   "id": "397951b6-cea2-4cfb-915b-8f54f1d5c80c",
   "metadata": {},
   "outputs": [
    {
     "name": "stdout",
     "output_type": "stream",
     "text": [
      "DatasetDict({\n",
      "    train: Dataset({\n",
      "        features: ['question', 'answer'],\n",
      "        num_rows: 56402\n",
      "    })\n",
      "})\n"
     ]
    }
   ],
   "source": [
    "print(ds)"
   ]
  },
  {
   "cell_type": "code",
   "execution_count": 5,
   "id": "ba78fa15-fa71-4cfc-9a7e-229869d58956",
   "metadata": {},
   "outputs": [
    {
     "data": {
      "application/vnd.jupyter.widget-view+json": {
       "model_id": "1c38a58ff6b04441a7fb07e96d177344",
       "version_major": 2,
       "version_minor": 0
      },
      "text/plain": [
       "Filter:   0%|          | 0/56402 [00:00<?, ? examples/s]"
      ]
     },
     "metadata": {},
     "output_type": "display_data"
    },
    {
     "name": "stdout",
     "output_type": "stream",
     "text": [
      "4266\n",
      "Question: What is a proxy, and how can I use one?\n",
      "Answer: A proxy server is a system or router that provides a gateway between users and the internet. Therefore, it helps prevent cyber attackers from entering a private network. It is a server, referred to as an “intermediary” because it goes between end-users and the web pages they visit online.\n",
      " When a computer connects to the internet, it uses an IP address. This is similar to your home’s street address, telling incoming data where to go and marking outgoing data with a return address for other devices to authenticate. A proxy server is essentially a computer on the internet that has an IP address of its own.\n",
      " How a Proxy Works\n",
      "Because a proxy server has its own IP address, it acts as a go-between for a computer and the internet. Your computer knows this address, and when you send a request on the internet, it is routed to the proxy, which then gets the response from the web server and forwards the data from the page to your computer’s browser, like Chrome, Safari, Firefox, or Microsoft Edge\n",
      " Benefits of a Proxy Server\n",
      " Enhanced security: Can act like a firewall between your systems and the internet. Without them, hackers have easy access to your IP address, which they can use to infiltrate your computer or network.\n",
      " Private browsing, watching, listening, and shopping: Use different proxies to help you avoid getting inundated with unwanted ads or the collection of IP-specific data.\n",
      " Access to location-specific content: You can designate a proxy server with an address associated with another country. You can, in effect, make it look like you are in that country and gain full access to all the content computers in that country are allowed to interact with.\n",
      "\n",
      "Answer Length: 1678 characters\n",
      "-----\n",
      "\n",
      "Question: Does ethical obligation go beyond standard ethical conduct?\n",
      "Answer: First of all, an obligation is another word for a contract. If you have a contract you must do it because you agreed to. Standard means whatever the majority has decided is the normal thing to do, and ethical conduct is an agreed upon set of rules everyone chooses to follow.\n",
      " Therefor, whatever is obligated goes WAY BEYOND whatever is standard. This means everything and not just ethics.\n",
      " Ethics are a set of agreed upon rules that everyone chooses to follow in order to keep the peace in any group (family, society, work, gathering, etc.). Sort of like going to a family reunion where no one gets along. Everyone agrees to be on their best behavior even though they would rather torment each other. Following some basic ethics (keep your bad thoughts to yourself, be polite, do not talk about stuff that starts fights, etc.) will allow all these people to have a good time, and keep those negative feelings from causing problems. When different social groups come together having an agreed upon set of ethics, that all choose to follow, will help reduce conflicts.\n",
      "\n",
      "Answer Length: 1068 characters\n",
      "-----\n",
      "\n",
      "Question: What are the differences between those who succeed slowly and those who succeed fast?\n",
      "Answer: The difference between those who succeed slowly and those who succeed fast can be attributed to several factors, including:\n",
      "Risk tolerance: Those who are willing to take bigger risks are more likely to experience fast success, while those who take smaller, calculated risks may experience slower but steadier success.Timing: Sometimes success is simply a matter of being in the right place at the right time. Those who are able to identify and capitalize on opportunities quickly may experience faster success.Persistence: Success often requires persistence and the ability to overcome obstacles. Those who are able to persevere through setbacks and failures may experience slower but steady success.Network: Building a strong network of contacts and supporters can help accelerate success. Those who are able to build strong relationships with others in their industry or field may experience faster success.Focus: Maintaining a clear focus and direction can also help accelerate success. Those who are able to remain focused on their goals and avoid distractions may experience faster success.\n",
      "Ultimately, the path to success is different for everyone, and there is no one-size-fits-all approach. It is important to stay true to your own values and goals, and to be willing to adjust and adapt as necessary to achieve the success you desire.\n",
      "\n",
      "Answer Length: 1344 characters\n",
      "-----\n",
      "\n",
      "Question: How do I get someone's name by their mobile number?\n",
      "Answer: There are several ways to trace someone’s name through a mobile number:\n",
      "Use a reverse phone lookup service: You can use a reverse phone lookup service like Whitepages or Truecaller to trace the name associated with a mobile number. These services use public records and other sources to provide information about the owner of a phone number.Use social media: If you have the phone number of the person you’re trying to trace, you can try searching for them on social medial platforms like Facebook, LinkedIn, or Twitter. If the person has connected their phone number to their social media account, you may be able to find their name.Contact the service provider: If the phone number belongs to a mobile phone service provider, you can contact them and request information about the owner of the number. However, the service provider may require a legal reason for providing this information.Hire a private investigator: If you’re unable to trace the name associated with a mobile number using the above methods, you can hire a private investigator to do it for you. Private investigators have access to specialized databased and tools that can help them find information about people.\n",
      "Note that tracing someone’s name through their mobile number without their permission may be illegal in some countries. It’s important to respect people’s privacy and only use these methods for legitimate reasons.\n",
      "\n",
      "Answer Length: 1400 characters\n",
      "-----\n",
      "\n",
      "Question: What is an online auction?\n",
      "Answer: Throughout the years, online auction sites are increasing massive prevalence. Online auctions exhibit incredible chances to business visionaries and customers alike. They offer a typical stage where purchasers and dealers can bid or offer pretty much anything.Bidding on the auction sites is advantageous and exceedingly financially cost-effective. The vast majority of the auction gateways give mechanized bidding a huge number of posting classifications and subcategories. They empower purchasers and merchants to make exchanges continuously. Auction gateways are created on a propelled programming arrangement that makes the e-commercial center secure for bidders and dealers. Also, great online auction sites dependably keep up concentrate on the simplicity of route to keep up ideal site ease of use.\n",
      "As a dealer, you can make deals rapidly in a profoundly focused market. Dealers have finish control over their items that are up for auction including presentation of items under particular classes and postings. You can likewise reveal vital item points of interest to guarantee straightforwardness and assemble trust among purchasers. In addition, online auction sites bid devices that help vendors in posting items and dealing with their item list. These devices help with including item pictures, item portrayals, crossing out bids etc.\n",
      " For the purchaser, bidding on online auctions is fun and to a great degree simple. The site gives all the fundamental devices and assets to help individuals bid with guaranteed security and certainty. To keep the auction straightforward, sell off sites additionally give all important data about the item and vendor. In addition, the progressed B2B stage encourages smooth perusing, [LINKED_TEXT: Cheap Online Bidding] [URL: https://www.quora.com/topic/Cheap-Online-Bidding] , and secured exchanges.\n",
      "\n",
      "Answer Length: 1847 characters\n",
      "-----\n",
      "\n"
     ]
    },
    {
     "data": {
      "application/vnd.jupyter.widget-view+json": {
       "model_id": "974f13b9b6834e9e9790e60a030bc744",
       "version_major": 2,
       "version_minor": 0
      },
      "text/plain": [
       "Creating json from Arrow format:   0%|          | 0/5 [00:00<?, ?ba/s]"
      ]
     },
     "metadata": {},
     "output_type": "display_data"
    },
    {
     "data": {
      "text/plain": [
       "7705074"
      ]
     },
     "execution_count": 5,
     "metadata": {},
     "output_type": "execute_result"
    }
   ],
   "source": [
    "#!pip install better-profanity\n",
    "from better_profanity import profanity\n",
    "import re\n",
    "def clean_data(entry):\n",
    "    answer_length = 1000 <= len(entry['answer']) <= 3000\n",
    "    word_condition = not re.search(r'\\b(I|me|my)\\b', entry['answer'], re.IGNORECASE)\n",
    "    is_clean = (not (profanity.contains_profanity(entry['question']) or profanity.contains_profanity(entry['answer']))) if (answer_length and word_condition) else False\n",
    "    return answer_length and word_condition and is_clean\n",
    "\n",
    "clean_ds = ds['train'].filter(clean_data)\n",
    "print(len(clean_ds))\n",
    "\n",
    "for i in range(5):\n",
    "    example = clean_ds[i]\n",
    "    print(\"Question:\", example['question'])\n",
    "    print(\"Answer:\", example['answer'])\n",
    "    print(\"Answer Length:\", len(example['answer']), \"characters\")\n",
    "    print(\"-----\\n\")\n",
    "\n",
    "import json\n",
    "filtered_data = [entry for entry in clean_ds]\n",
    "\n",
    "# Save the filtered data to a JSON file\n",
    "with open('quora_clean.json', 'w', encoding='utf-8') as f:\n",
    "    json.dump(filtered_data, f, ensure_ascii=False, indent=4)"
   ]
  },
  {
   "cell_type": "code",
   "execution_count": 15,
   "id": "aae0d640-0845-4450-980e-b1e0e5b84582",
   "metadata": {},
   "outputs": [
    {
     "data": {
      "text/plain": [
       "[{'question': 'What is a proxy, and how can I use one?',\n",
       "  'answer': 'A proxy server is a system or router that provides a gateway between users and the internet. Therefore, it helps prevent cyber attackers from entering a private network. It is a server, referred to as an “intermediary” because it goes between end-users and the web pages they visit online.\\n When a computer connects to the internet, it uses an IP address. This is similar to your home’s street address, telling incoming data where to go and marking outgoing data with a return address for other devices to authenticate. A proxy server is essentially a computer on the internet that has an IP address of its own.\\n How a Proxy Works\\nBecause a proxy server has its own IP address, it acts as a go-between for a computer and the internet. Your computer knows this address, and when you send a request on the internet, it is routed to the proxy, which then gets the response from the web server and forwards the data from the page to your computer’s browser, like Chrome, Safari, Firefox, or Microsoft Edge\\n Benefits of a Proxy Server\\n Enhanced security: Can act like a firewall between your systems and the internet. Without them, hackers have easy access to your IP address, which they can use to infiltrate your computer or network.\\n Private browsing, watching, listening, and shopping: Use different proxies to help you avoid getting inundated with unwanted ads or the collection of IP-specific data.\\n Access to location-specific content: You can designate a proxy server with an address associated with another country. You can, in effect, make it look like you are in that country and gain full access to all the content computers in that country are allowed to interact with.\\n'},\n",
       " {'question': 'Does ethical obligation go beyond standard ethical conduct?',\n",
       "  'answer': 'First of all, an obligation is another word for a contract. If you have a contract you must do it because you agreed to. Standard means whatever the majority has decided is the normal thing to do, and ethical conduct is an agreed upon set of rules everyone chooses to follow.\\n Therefor, whatever is obligated goes WAY BEYOND whatever is standard. This means everything and not just ethics.\\n Ethics are a set of agreed upon rules that everyone chooses to follow in order to keep the peace in any group (family, society, work, gathering, etc.). Sort of like going to a family reunion where no one gets along. Everyone agrees to be on their best behavior even though they would rather torment each other. Following some basic ethics (keep your bad thoughts to yourself, be polite, do not talk about stuff that starts fights, etc.) will allow all these people to have a good time, and keep those negative feelings from causing problems. When different social groups come together having an agreed upon set of ethics, that all choose to follow, will help reduce conflicts.\\n'},\n",
       " {'question': 'What are the differences between those who succeed slowly and those who succeed fast?',\n",
       "  'answer': 'The difference between those who succeed slowly and those who succeed fast can be attributed to several factors, including:\\nRisk tolerance: Those who are willing to take bigger risks are more likely to experience fast success, while those who take smaller, calculated risks may experience slower but steadier success.Timing: Sometimes success is simply a matter of being in the right place at the right time. Those who are able to identify and capitalize on opportunities quickly may experience faster success.Persistence: Success often requires persistence and the ability to overcome obstacles. Those who are able to persevere through setbacks and failures may experience slower but steady success.Network: Building a strong network of contacts and supporters can help accelerate success. Those who are able to build strong relationships with others in their industry or field may experience faster success.Focus: Maintaining a clear focus and direction can also help accelerate success. Those who are able to remain focused on their goals and avoid distractions may experience faster success.\\nUltimately, the path to success is different for everyone, and there is no one-size-fits-all approach. It is important to stay true to your own values and goals, and to be willing to adjust and adapt as necessary to achieve the success you desire.\\n'},\n",
       " {'question': \"How do I get someone's name by their mobile number?\",\n",
       "  'answer': 'There are several ways to trace someone’s name through a mobile number:\\nUse a reverse phone lookup service: You can use a reverse phone lookup service like Whitepages or Truecaller to trace the name associated with a mobile number. These services use public records and other sources to provide information about the owner of a phone number.Use social media: If you have the phone number of the person you’re trying to trace, you can try searching for them on social medial platforms like Facebook, LinkedIn, or Twitter. If the person has connected their phone number to their social media account, you may be able to find their name.Contact the service provider: If the phone number belongs to a mobile phone service provider, you can contact them and request information about the owner of the number. However, the service provider may require a legal reason for providing this information.Hire a private investigator: If you’re unable to trace the name associated with a mobile number using the above methods, you can hire a private investigator to do it for you. Private investigators have access to specialized databased and tools that can help them find information about people.\\nNote that tracing someone’s name through their mobile number without their permission may be illegal in some countries. It’s important to respect people’s privacy and only use these methods for legitimate reasons.\\n'},\n",
       " {'question': 'What is an online auction?',\n",
       "  'answer': 'Throughout the years, online auction sites are increasing massive prevalence. Online auctions exhibit incredible chances to business visionaries and customers alike. They offer a typical stage where purchasers and dealers can bid or offer pretty much anything.Bidding on the auction sites is advantageous and exceedingly financially cost-effective. The vast majority of the auction gateways give mechanized bidding a huge number of posting classifications and subcategories. They empower purchasers and merchants to make exchanges continuously. Auction gateways are created on a propelled programming arrangement that makes the e-commercial center secure for bidders and dealers. Also, great online auction sites dependably keep up concentrate on the simplicity of route to keep up ideal site ease of use.\\nAs a dealer, you can make deals rapidly in a profoundly focused market. Dealers have finish control over their items that are up for auction including presentation of items under particular classes and postings. You can likewise reveal vital item points of interest to guarantee straightforwardness and assemble trust among purchasers. In addition, online auction sites bid devices that help vendors in posting items and dealing with their item list. These devices help with including item pictures, item portrayals, crossing out bids etc.\\n For the purchaser, bidding on online auctions is fun and to a great degree simple. The site gives all the fundamental devices and assets to help individuals bid with guaranteed security and certainty. To keep the auction straightforward, sell off sites additionally give all important data about the item and vendor. In addition, the progressed B2B stage encourages smooth perusing, [LINKED_TEXT: Cheap Online Bidding] [URL: https://www.quora.com/topic/Cheap-Online-Bidding] , and secured exchanges.\\n'}]"
      ]
     },
     "execution_count": 15,
     "metadata": {},
     "output_type": "execute_result"
    }
   ],
   "source": [
    "with open('quora_clean.json', 'r', encoding='utf-8') as f:\n",
    "    quora = json.load(f)\n",
    "\n",
    "quora[:5]"
   ]
  },
  {
   "cell_type": "code",
   "execution_count": 18,
   "id": "3c5d567f-a572-4199-9c88-e9b7a6f2ca80",
   "metadata": {},
   "outputs": [
    {
     "name": "stdout",
     "output_type": "stream",
     "text": [
      "3628\n",
      "4266\n"
     ]
    }
   ],
   "source": [
    "df = pd.read_json('quora_clean.json')\n",
    "duplicates = df[df.duplicated('question', keep=False)]\n",
    "print(len(duplicates))\n",
    "print(len(df))"
   ]
  },
  {
   "cell_type": "code",
   "execution_count": 22,
   "id": "bff48f95-e3a1-4513-91a0-093cfd7b02f5",
   "metadata": {},
   "outputs": [
    {
     "name": "stdout",
     "output_type": "stream",
     "text": [
      "Total number of questions: 4266\n",
      "Number of unique questions: 1177\n",
      "Number of questions with duplicates: 539\n",
      "\n",
      "Examples of duplicate questions:\n",
      "\n",
      "1. Question: What is a proxy, and how can I use one?\n",
      "   Occurrences: 29\n",
      "   Indices: [0, 22, 420, 493, 628, 805, 926, 1646, 1657, 1776, 1844, 2053, 2077, 2086, 2359, 2425, 2803, 2914, 3296, 3381, 3642, 3767, 3933, 4042, 4052, 4093, 4113, 4124, 4239]\n",
      "\n",
      "2. Question: What are the differences between those who succeed slowly and those who succeed fast?\n",
      "   Occurrences: 3\n",
      "   Indices: [2, 1815, 3603]\n",
      "\n",
      "3. Question: How do I get someone's name by their mobile number?\n",
      "   Occurrences: 13\n",
      "   Indices: [3, 109, 271, 311, 363, 1119, 1259, 1818, 2036, 2301, 2480, 2536, 3333]\n",
      "\n",
      "4. Question: What is an online auction?\n",
      "   Occurrences: 7\n",
      "   Indices: [4, 184, 1382, 2000, 3371, 3560, 4102]\n",
      "\n",
      "5. Question: Why are scientists more concerned about the impact of CO2 in the atmosphere than water vapor?\n",
      "   Occurrences: 4\n",
      "   Indices: [6, 720, 1712, 3771]\n",
      "\n",
      "Full list of duplicates saved to: duplicate_questions.json\n"
     ]
    }
   ],
   "source": [
    "import json\n",
    "from collections import defaultdict\n",
    "\n",
    "# Load the JSON file\n",
    "file_path = \"quora_clean.json\"\n",
    "with open(file_path, 'r', encoding='utf-8') as f:\n",
    "    data = json.load(f)\n",
    "\n",
    "# Create a dictionary to store questions and their occurrences\n",
    "question_dict = defaultdict(list)\n",
    "\n",
    "# Populate the dictionary\n",
    "for index, item in enumerate(data):\n",
    "    question = item['question']\n",
    "    question_dict[question].append(index)\n",
    "\n",
    "# Find duplicates\n",
    "duplicates = {q: indices for q, indices in question_dict.items() if len(indices) > 1}\n",
    "\n",
    "# Print results\n",
    "print(f\"Total number of questions: {len(data)}\")\n",
    "print(f\"Number of unique questions: {len(question_dict)}\")\n",
    "print(f\"Number of questions with duplicates: {len(duplicates)}\")\n",
    "\n",
    "# Print some examples of duplicates\n",
    "print(\"\\nExamples of duplicate questions:\")\n",
    "for i, (question, indices) in enumerate(list(duplicates.items())[:5], 1):\n",
    "    print(f\"\\n{i}. Question: {question}\")\n",
    "    print(f\"   Occurrences: {len(indices)}\")\n",
    "    print(f\"   Indices: {indices}\")\n",
    "\n",
    "# Optional: Save duplicates to a file\n",
    "duplicates_file = \"duplicate_questions.json\"\n",
    "with open(duplicates_file, 'w', encoding='utf-8') as f:\n",
    "    json.dump(duplicates, f, ensure_ascii=False, indent=2)\n",
    "\n",
    "print(f\"\\nFull list of duplicates saved to: {duplicates_file}\")"
   ]
  },
  {
   "cell_type": "code",
   "execution_count": 29,
   "id": "cdff6a82-71cb-48a5-8fe6-6734d0d8ae4d",
   "metadata": {},
   "outputs": [
    {
     "name": "stdout",
     "output_type": "stream",
     "text": [
      "Original dataset size: 4266\n",
      "Dataset size after removing duplicates: 1177\n",
      "Deduplicated dataset saved to: quora_clean_nodupes.json\n",
      "Number of duplicates removed: 3089\n",
      "Percentage of duplicates: 72.41%\n",
      "\n",
      "First 5 items of the deduplicated dataset:\n",
      "\n",
      "1:\n",
      "Question: What is a proxy, and how can I use one?\n",
      "Answer length: 1678\n",
      "Answer: A proxy server is a system or router that provides a gateway between users and the internet. Therefo...\n",
      "\n",
      "2:\n",
      "Question: Does ethical obligation go beyond standard ethical conduct?\n",
      "Answer length: 1068\n",
      "Answer: First of all, an obligation is another word for a contract. If you have a contract you must do it be...\n",
      "\n",
      "3:\n",
      "Question: What are the differences between those who succeed slowly and those who succeed fast?\n",
      "Answer length: 1344\n",
      "Answer: The difference between those who succeed slowly and those who succeed fast can be attributed to seve...\n",
      "\n",
      "4:\n",
      "Question: How do I get someone's name by their mobile number?\n",
      "Answer length: 1400\n",
      "Answer: There are several ways to trace someone’s name through a mobile number:\n",
      "Use a reverse phone lookup s...\n",
      "\n",
      "5:\n",
      "Question: What is an online auction?\n",
      "Answer length: 1847\n",
      "Answer: Throughout the years, online auction sites are increasing massive prevalence. Online auctions exhibi...\n"
     ]
    }
   ],
   "source": [
    "import json\n",
    "from collections import OrderedDict\n",
    "\n",
    "# Load the JSON file\n",
    "input_file = \"quora_clean.json\"\n",
    "with open(input_file, 'r', encoding='utf-8') as f:\n",
    "    data = json.load(f)\n",
    "\n",
    "print(f\"Original dataset size: {len(data)}\")\n",
    "\n",
    "# Use OrderedDict to remove duplicates while preserving order\n",
    "seen_questions = set()\n",
    "unique_data = []\n",
    "\n",
    "for item in data:\n",
    "    question = item['question']\n",
    "    if question not in seen_questions:\n",
    "        seen_questions.add(question)\n",
    "        unique_data.append(item)\n",
    "\n",
    "print(f\"Dataset size after removing duplicates: {len(unique_data)}\")\n",
    "\n",
    "# Save the deduplicated data to a new JSON file\n",
    "output_file = \"quora_clean_nodupes.json\"\n",
    "with open(output_file, 'w', encoding='utf-8') as f:\n",
    "    json.dump(unique_data, f, ensure_ascii=False, indent=2)\n",
    "\n",
    "print(f\"Deduplicated dataset saved to: {output_file}\")\n",
    "\n",
    "# Print some statistics\n",
    "duplicates_removed = len(data) - len(unique_data)\n",
    "print(f\"Number of duplicates removed: {duplicates_removed}\")\n",
    "print(f\"Percentage of duplicates: {duplicates_removed / len(data) * 100:.2f}%\")\n",
    "\n",
    "# Optionally, print the first few items of the deduplicated dataset\n",
    "print(\"\\nFirst 5 items of the deduplicated dataset:\")\n",
    "for i, item in enumerate(unique_data[:5], 1):\n",
    "    print(f\"\\n{i}:\")\n",
    "    print(f\"Question: {item['question']}\")\n",
    "    print(f\"Answer length: {len(item['answer'])}\")\n",
    "    print(f\"Answer: {item['answer'][:100]}...\")  # Show first 100 characters"
   ]
  },
  {
   "cell_type": "code",
   "execution_count": 34,
   "id": "d25cae6e-5643-471f-bf9a-eda8f25cdd93",
   "metadata": {},
   "outputs": [],
   "source": [
    "from initialize import *\n",
    "from enhanced_hooking import get_activations, add_activations_and_generate, clear_hooks, get_activations_and_generate, zeroout_projections_and_generate\n",
    "from sklearn.decomposition import PCA\n",
    "from matplotlib import pyplot as plt\n",
    "import seaborn as sns\n",
    "import pandas as pd\n",
    "import numpy as np\n",
    "import random\n",
    "from collections import defaultdict\n",
    "from enum import Enum\n",
    "class SteeringType(Enum):\n",
    "    IN_PROMPT = \"In prompt\"\n",
    "    CONTINUOUS = \"Continuous\"\n",
    "class AggType(Enum):\n",
    "    MEANDIFF = \"MeanDiff\"\n",
    "    PCA = \"PCA\"\n",
    "\n",
    "%load_ext autoreload\n",
    "%autoreload 2"
   ]
  },
  {
   "cell_type": "code",
   "execution_count": 35,
   "id": "6edb7e8a-8925-43ef-bbe3-ead81493713b",
   "metadata": {},
   "outputs": [
    {
     "data": {
      "application/vnd.jupyter.widget-view+json": {
       "model_id": "c2a2d6059dfc4c0e8b7f34b380700dbe",
       "version_major": 2,
       "version_minor": 0
      },
      "text/plain": [
       "Loading checkpoint shards:   0%|          | 0/4 [00:00<?, ?it/s]"
      ]
     },
     "metadata": {},
     "output_type": "display_data"
    }
   ],
   "source": [
    "gc.collect()\n",
    "torch.cuda.empty_cache()\n",
    "base_model_path: str = \"meta-llama/Meta-Llama-3-8B-Instruct\"#\"meta-llama/Llama-2-13b-chat-hf\"\n",
    "model_path=base_model_path\n",
    "###model_path=\"cackerman/llama2_13b_chat_projection_tune_neg_in\"\n",
    "\n",
    "#device: str = \"mps\" if torch.backends.mps.is_available() else \"cuda\" if torch.cuda.is_available() else \"cpu\" \n",
    "#model = load_model(model_path, base_model_path, device)\n",
    "\n",
    "from transformers import BitsAndBytesConfig\n",
    "bnb_config = BitsAndBytesConfig(load_in_8bit=True)\n",
    "_ = torch.set_grad_enabled(False)\n",
    "model = AutoModelForCausalLM.from_pretrained(model_path, torch_dtype=torch.float16, token=HF_TOKEN, quantization_config=bnb_config, device_map=\"auto\")\n",
    "device = model.device\n",
    "tokenizer = AutoTokenizer.from_pretrained(base_model_path, token=HF_TOKEN)\n",
    "model.tokenizer = tokenizer\n",
    "if model.tokenizer.pad_token is None:\n",
    "    new_pad_token = model.tokenizer.eos_token\n",
    "    num_added_tokens = model.tokenizer.add_special_tokens({'pad_token': new_pad_token})\n",
    "    model.resize_token_embeddings(len(model.tokenizer))\n",
    "    model.config.pad_token_id = model.tokenizer.pad_token_id\n",
    "model_numlayers = model.config.num_hidden_layers"
   ]
  },
  {
   "cell_type": "code",
   "execution_count": null,
   "id": "41c42e8a-3943-48e3-9c08-d3b90b8119a2",
   "metadata": {},
   "outputs": [
    {
     "name": "stdout",
     "output_type": "stream",
     "text": [
      "Processing new data not in quora_qa/llama3_8bchat_responses.json\n"
     ]
    },
    {
     "name": "stderr",
     "output_type": "stream",
     "text": [
      "  1%|          | 1/146 [01:44<4:11:47, 104.19s/it]"
     ]
    },
    {
     "name": "stdout",
     "output_type": "stream",
     "text": [
      "Refusal at How do I get someone's name by their mobile number?: \n",
      "\n",
      "I cannot provide information that would assist in obtaining someone's personal information, such as their name, without their consent.\n",
      "Refusal at How would I start a boiler room stock scheme?: \n",
      "\n",
      "I cannot provide information or guidance on illegal or harmful activities, including starting a boiler room stock scheme. Can I help you with something else?\n",
      "Completed 8 rows out of 1163\n"
     ]
    },
    {
     "name": "stderr",
     "output_type": "stream",
     "text": [
      "  1%|▏         | 2/146 [03:08<3:42:28, 92.70s/it] "
     ]
    },
    {
     "name": "stdout",
     "output_type": "stream",
     "text": [
      "Completed 16 rows out of 1163\n"
     ]
    },
    {
     "name": "stderr",
     "output_type": "stream",
     "text": [
      "  2%|▏         | 3/146 [04:34<3:33:44, 89.68s/it]"
     ]
    },
    {
     "name": "stdout",
     "output_type": "stream",
     "text": [
      "Refusal at How did a plane crash on the upper floors of the World Trade Center result in the entire building collapsing?: \n",
      "\n",
      "I think there may be some misinformation here. The planes that crashed into the World Trade Center on 9/11 did not crash into the upper floors of the buildings. In fact, American Airlines Flight 11 and United Airlines Flight 175 crashed into the North Tower (1 WTC) and South Tower (2 WTC), respectively, at a relatively low altitude, around the 80th-90th floors.\n",
      "\n",
      "The impact and subsequent fires caused significant damage to the structures, but the buildings were designed to withstand the impact of a plane. However, the combination of factors, including the massive damage, the intense fires, and the weakening of the structural columns, ultimately led to the collapse of both towers.\n",
      "\n",
      "Here's a brief summary of what happened:\n",
      "\n",
      "1. The impact of the planes caused significant damage to the structures, including the destruction of critical columns and the displacement of fireproofing materials.\n",
      "2. The fires that erupted from the impact spread rapidly throughout the buildings, fueled by the large amount of fuel on board the planes and the presence of flammable materials in the buildings.\n",
      "3. The intense heat from the fires weakened the structural steel columns, causing them to sag and lose their load-carrying capacity.\n",
      "4. As the columns weakened, the floors above them began to collapse, which in turn caused the collapse of the entire structure.\n",
      "5. The collapse of the North Tower occurred at around 10:28 a.m., and the South Tower followed at around 9:59 a.m.\n",
      "\n",
      "It's important to note that the collapse of the World Trade Center towers was a complex and multifaceted event, and it's not accurate to simplify it to a single cause or factor. The investigation into the 9/11 attacks concluded that the combination of the plane impacts, fires, and structural damage ultimately led to the collapse of the buildings.\n",
      "Completed 24 rows out of 1163\n"
     ]
    },
    {
     "name": "stderr",
     "output_type": "stream",
     "text": [
      "  3%|▎         | 4/146 [06:32<3:58:37, 100.83s/it]"
     ]
    },
    {
     "name": "stdout",
     "output_type": "stream",
     "text": [
      "Completed 32 rows out of 1163\n"
     ]
    },
    {
     "name": "stderr",
     "output_type": "stream",
     "text": [
      "  3%|▎         | 5/146 [08:26<4:07:51, 105.47s/it]"
     ]
    },
    {
     "name": "stdout",
     "output_type": "stream",
     "text": [
      "Completed 40 rows out of 1163\n"
     ]
    },
    {
     "name": "stderr",
     "output_type": "stream",
     "text": [
      "  4%|▍         | 6/146 [10:21<4:13:59, 108.85s/it]"
     ]
    },
    {
     "name": "stdout",
     "output_type": "stream",
     "text": [
      "Completed 48 rows out of 1163\n"
     ]
    },
    {
     "name": "stderr",
     "output_type": "stream",
     "text": [
      "  5%|▍         | 7/146 [12:01<4:05:03, 105.78s/it]"
     ]
    },
    {
     "name": "stdout",
     "output_type": "stream",
     "text": [
      "Completed 56 rows out of 1163\n"
     ]
    },
    {
     "name": "stderr",
     "output_type": "stream",
     "text": [
      "  5%|▌         | 8/146 [13:22<3:44:51, 97.76s/it] "
     ]
    },
    {
     "name": "stdout",
     "output_type": "stream",
     "text": [
      "Completed 64 rows out of 1163\n"
     ]
    },
    {
     "name": "stderr",
     "output_type": "stream",
     "text": [
      "  6%|▌         | 9/146 [15:07<3:48:55, 100.26s/it]"
     ]
    },
    {
     "name": "stdout",
     "output_type": "stream",
     "text": [
      "Completed 72 rows out of 1163\n"
     ]
    },
    {
     "name": "stderr",
     "output_type": "stream",
     "text": [
      "  7%|▋         | 10/146 [16:34<3:37:35, 95.99s/it]"
     ]
    },
    {
     "name": "stdout",
     "output_type": "stream",
     "text": [
      "Completed 80 rows out of 1163\n"
     ]
    },
    {
     "name": "stderr",
     "output_type": "stream",
     "text": [
      "  8%|▊         | 11/146 [18:25<3:46:45, 100.78s/it]"
     ]
    },
    {
     "name": "stdout",
     "output_type": "stream",
     "text": [
      "Completed 88 rows out of 1163\n"
     ]
    },
    {
     "name": "stderr",
     "output_type": "stream",
     "text": [
      "  8%|▊         | 12/146 [20:06<3:44:46, 100.65s/it]"
     ]
    },
    {
     "name": "stdout",
     "output_type": "stream",
     "text": [
      "Completed 96 rows out of 1163\n"
     ]
    }
   ],
   "source": [
    "def do_batch_decode(generated_tokens, input_ids, tokenizer):\n",
    "    batch_size = generated_tokens.shape[0]\n",
    "    start_indices = input_ids.shape[1]\n",
    "    max_len = generated_tokens.shape[1] - start_indices\n",
    "    tokens_to_decode = torch.full((batch_size, max_len), tokenizer.pad_token_id, dtype=torch.long)\n",
    "    \n",
    "    for i in range(batch_size):\n",
    "        len_to_decode = generated_tokens.shape[1] - input_ids.shape[1]\n",
    "        tokens_to_decode[i, :len_to_decode] = generated_tokens[i, input_ids.shape[1]:]\n",
    "    \n",
    "    return tokenizer.batch_decode(tokens_to_decode, skip_special_tokens=True, clean_up_tokenization_spaces=False)\n",
    "    \n",
    "gc.collect()\n",
    "torch.cuda.empty_cache()\n",
    "def generate_answers(model, model_name, prompts, batch_size=4, dir_name = \"quora_qa\"):\n",
    "    outputfile = f\"{model_name}_responses\"\n",
    "    filename = f\"{dir_name}/{outputfile}.json\"\n",
    "    partial_filename = f\"{dir_name}/{outputfile}_partial.json\"    \n",
    "\n",
    "    results = []    \n",
    "    if os.path.exists(filename) or os.path.exists(partial_filename):\n",
    "        results_tmp = load_from_json(filename) if os.path.exists(filename) else load_from_json(partial_filename)\n",
    "        results = [result for result in results_tmp if result['answer'] != \"\"]\n",
    "        existing_qs = {result['question'] for result in results}\n",
    "        prompts = [q for q in prompts if q['question'] not in existing_qs]\n",
    "        if prompts == []:\n",
    "            print(f\"All data in {filename} has been processed. Exiting.\")\n",
    "            return\n",
    "        else:\n",
    "            print(f\"Processing new data not in {filename}\")\n",
    "\n",
    "    model.eval()\n",
    "    model.tokenizer.padding_side=\"left\"\n",
    "    sampling_kwargs={\"use_cache\": True, \"pad_token_id\": model.tokenizer.pad_token_id, \"max_new_tokens\": 1000, \"do_sample\": True}\n",
    "    initlenresults=0\n",
    "    \n",
    "    for i in tqdm(range(initlenresults, initlenresults+len(prompts), batch_size)):\n",
    "        batch = prompts[i-initlenresults:min(i-initlenresults+batch_size,len(prompts))]\n",
    "        input_texts = [LLAMA3_PROMPT_TEMPLATE.format(system_prompt=\"\",user_prompt=item[\"question\"]+\"\\n\") for item in batch] \n",
    "        inputs = model.tokenizer(input_texts, return_tensors=\"pt\", truncation=True, padding=True)\n",
    "        inputs = {k: v.to(model.device) for k, v in inputs.items()}\n",
    "        with torch.no_grad():\n",
    "            output_ids = model.generate(**inputs, **sampling_kwargs)\n",
    "\n",
    "        output = do_batch_decode(output_ids, inputs['input_ids'], model.tokenizer)\n",
    "\n",
    "        for j, item in enumerate(batch):\n",
    "            if output[j].strip() == \"\": \n",
    "                print(\"Bad output at \",item[\"question\"])\n",
    "                continue\n",
    "            if output[j].strip()[:2] == \"I \":\n",
    "                print(f\"Refusal at {item['question']}: {output[j]}\")\n",
    "                continue\n",
    "            results.append({\"id\": f\"id{i+j}\", \"question\": item[\"question\"], \"answer\": output[j].strip()})\n",
    "            \n",
    "        if (i-initlenresults + batch_size) % 8 == 0 or (i-initlenresults + batch_size) >= len(prompts):\n",
    "            print(f\"Completed {i-initlenresults + batch_size} rows out of {len(prompts)}\")\n",
    "            save_to_json(results, partial_filename)\n",
    "\n",
    "    save_to_json(results, filename)\n",
    "\n",
    "input_file = \"quora_clean_nodupes.json\"\n",
    "with open(input_file, 'r', encoding='utf-8') as f:\n",
    "    data = json.load(f)\n",
    "generate_answers(model, \"llama3_8bchat\", data, batch_size=8)\n"
   ]
  },
  {
   "cell_type": "code",
   "execution_count": null,
   "id": "5957cb15-584d-42b9-b747-5792f17fb7bd",
   "metadata": {},
   "outputs": [],
   "source": []
  }
 ],
 "metadata": {
  "kernelspec": {
   "display_name": "Python 3 (ipykernel)",
   "language": "python",
   "name": "python3"
  },
  "language_info": {
   "codemirror_mode": {
    "name": "ipython",
    "version": 3
   },
   "file_extension": ".py",
   "mimetype": "text/x-python",
   "name": "python",
   "nbconvert_exporter": "python",
   "pygments_lexer": "ipython3",
   "version": "3.10.12"
  }
 },
 "nbformat": 4,
 "nbformat_minor": 5
}
